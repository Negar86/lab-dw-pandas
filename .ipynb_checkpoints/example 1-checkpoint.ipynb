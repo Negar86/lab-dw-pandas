{
 "cells": [
  {
   "cell_type": "code",
   "execution_count": null,
   "id": "2c554d3f",
   "metadata": {},
   "outputs": [],
   "source": [
    "import numpy as np\n",
    "import pandas as pd"
   ]
  },
  {
   "cell_type": "code",
   "execution_count": null,
   "id": "b2c78e42",
   "metadata": {},
   "outputs": [],
   "source": [
    "pd.read_csv(\"https://raw.githubusercontent.com/data-bootcamp-v4/data/main/file1.csv\")"
   ]
  },
  {
   "cell_type": "code",
   "execution_count": null,
   "id": "e6c61d22",
   "metadata": {},
   "outputs": [],
   "source": [
    "df_lab1 = pd.read_csv(\"https://raw.githubusercontent.com/data-bootcamp-v4/data/main/file1.csv\")\n",
    "df_lab1.shape"
   ]
  },
  {
   "cell_type": "code",
   "execution_count": null,
   "id": "a5383c41",
   "metadata": {},
   "outputs": [],
   "source": [
    "df_lab1 = pd.read_csv(\"https://raw.githubusercontent.com/data-bootcamp-v4/data/main/file1.csv\")\n",
    "\n",
    "df_lab1.info()"
   ]
  },
  {
   "cell_type": "code",
   "execution_count": null,
   "id": "a722dffd",
   "metadata": {},
   "outputs": [],
   "source": [
    "df_mile_dict = [\n",
    "    [\"Customer\", \"Yes\", np.nan],\n",
    "    [\"ST\", \"Yes\", np.nan],\n",
    "    [\"GENDER\", \"Yes\", np.nan],\n",
    "    [\"Education\", \"Yes\", np.nan],\n",
    "    [\"Customer Lifetime Value\", \"No\", \"float64\"],\n",
    "    [\"Income\", \"Yes\", np.nan],\n",
    "    [\"Monthly Premium Auto\", \"No\", \"int64\"],\n",
    "    [\"Number of Open Complaints\", \"No\", \"int64\"],\n",
    "    [\"Policy Type\", \"Yes\", np.nan],\n",
    "    [\"Vehicle Class\", \"Yes\", np.nan],\n",
    "    [\"Total Claim Amount\", \"Yes\", np.nan]\n",
    "]\n",
    "\n",
    "df_mile = pd.DataFrame(df_mile_dict, columns=[\"column_name\", \"appropriate_Dtype\", \"suggested_Dtype\"])\n",
    "\n",
    "df_mile"
   ]
  },
  {
   "cell_type": "code",
   "execution_count": null,
   "id": "e03082eb",
   "metadata": {},
   "outputs": [],
   "source": [
    "\"\"\"\n",
    "What I did above to answer the task is, I created a df with 3 columns:\n",
    "\n",
    "1. \"column_name\" == column labels from the imported csv\n",
    "\n",
    "2. \"appropriate_Dtype\" = \"Yes\" if I find the Dtype appropriate, given the data description and the preview,\n",
    "    else \"No\"\n",
    "    \n",
    "3. \"suggested_Dtype\" = \"NaN\" if I don't suggest another Dtype.\n",
    "\"\"\"\n",
    "\n",
    "\"\"\"\n",
    "Now let's identify the number of unique values for each column and\n",
    "determine which columns appear to be categorical.\n",
    "\"\"\"\n",
    "\n",
    "\n",
    "df_lab1.nunique()"
   ]
  },
  {
   "cell_type": "code",
   "execution_count": null,
   "id": "d3fc2f9f",
   "metadata": {},
   "outputs": [],
   "source": [
    "\"\"\"\n",
    "Judging by the number of unique values, the column names, Dtype, and from the data preview,\n",
    "the columns appearing to be containing: \"\"\"\n",
    "\n",
    "categorical_data = [\"ST\", \"GENDER\", \"Education\", \"Policy Type\", \"Vehicle Class\"]\n",
    "\n",
    "\"\"\"\n",
    "Let's describe the unique values of each categorical column.\n",
    "\"\"\"\n",
    "\n",
    "for col in categorical_data:\n",
    "    unique = df_lab1[col].unique()\n",
    "    print(f\"Unique values for {col}:\\n{unique}\\n\")"
   ]
  },
  {
   "cell_type": "code",
   "execution_count": null,
   "id": "ea57fcb6",
   "metadata": {},
   "outputs": [],
   "source": [
    "df_lab1_categorical = df_lab1[categorical_data]\n",
    "\n",
    "df_lab1_categorical = df_lab1_categorical.describe()\n",
    "df_lab1_categorical"
   ]
  },
  {
   "cell_type": "code",
   "execution_count": null,
   "id": "d662b986",
   "metadata": {},
   "outputs": [],
   "source": [
    "\"\"\"\n",
    "What column contains what:\n",
    "\n",
    "- \"ST\": 8 US states, of which 3 are duplicates, having been entered in 2 different ways:\n",
    "  - \"Washington vs \"WA\",\n",
    "  - \"Arizona\" vs \"AZ\",\n",
    "  - \"California\" vs \"Cali\".\n",
    "The entries are not uniformed. Some are full names of the states, others are abbreviations.\n",
    "The top entry is Oregon, 320 times.\n",
    "\n",
    "- \"GENDER\": 5 genders, of which female is written in 3 different ways, and male in 2 ways.\n",
    "With such inconsistent values, I can't say what's the ratio of genders without writing a code for it.\n",
    "\n",
    "- \"Education\": 6 levels of education, of which bachelor is a duplicate.\n",
    "Majority = 1/3 of the users have what they entered as a Bachelor degree.\n",
    "Bear in mind that some have \"Bachelors\" with an \"s\".\n",
    "\n",
    "- \"Policy Type\": the type of user's car.\n",
    "2/3 of users have Personal Auto.\n",
    "\n",
    "- \"Vehicle Class\"\n",
    "Half the users have a Four-Door Car.\n",
    "\"\"\"\n",
    "\n",
    "\"\"\"\n",
    "This dataset is largely unpopulated.\n",
    "Of 4008 rows, the most populated column is \"Customer\" with only 1071 non-null values.\n",
    "The dataset is very dirty and it may take a lot of time to clean it.\n",
    "\"\"\"\n",
    "\n",
    "\n",
    "\"\"\"\n",
    "Let's describe the range of values for numerical columns.\n",
    "\"\"\"\n",
    "\n",
    "df_lab1_numerical = df_lab1.describe()\n",
    "df_lab1_numerical"
   ]
  },
  {
   "cell_type": "code",
   "execution_count": null,
   "id": "e0a8b35f",
   "metadata": {},
   "outputs": [],
   "source": [
    "Challenge 2: analyzing the data"
   ]
  },
  {
   "cell_type": "code",
   "execution_count": null,
   "id": "6f7a9a97",
   "metadata": {},
   "outputs": [],
   "source": [
    "df_st = df_lab1[\"ST\"].value_counts().tail(5).sort_values()\n",
    "df_st"
   ]
  },
  {
   "cell_type": "code",
   "execution_count": null,
   "id": "a038ecf3",
   "metadata": {},
   "outputs": [],
   "source": [
    "\"\"\"\n",
    "Total number of policies sold\n",
    "\"\"\"\n",
    "\n",
    "df_lab1[\"Policy Type\"].info()"
   ]
  },
  {
   "cell_type": "code",
   "execution_count": null,
   "id": "b26af42e",
   "metadata": {},
   "outputs": [],
   "source": [
    "\"\"\"\n",
    "Total number of policies sold, per type.\n",
    "\"\"\"\n",
    "\n",
    "df_policy_type = df_lab1[\"Policy Type\"].value_counts()\n",
    "df_policy_type\n"
   ]
  },
  {
   "cell_type": "code",
   "execution_count": null,
   "id": "68108b66",
   "metadata": {},
   "outputs": [],
   "source": [
    "\"\"\"\n",
    "The policy type with the highest number of policies sold.\n",
    "\"\"\"\n",
    "\n",
    "df_policy_type.idxmax()"
   ]
  },
  {
   "cell_type": "code",
   "execution_count": null,
   "id": "34a11d03",
   "metadata": {},
   "outputs": [],
   "source": [
    "\"\"\"\n",
    "The customers with Personal Auto do have a lower average income than those with Corporate Auto.\n",
    "\"\"\"\n",
    "\n",
    "df_income_personal_auto = df_lab1.loc[df_lab1[\"Policy Type\"] == \"Personal Auto\", \"Income\"].mean()\n",
    "\n",
    "df_income_corporate_auto = df_lab1.loc[df_lab1[\"Policy Type\"] == \"Corporate Auto\", \"Income\"].mean()\n",
    "\n",
    "print(f\"Personal Auto avg income:  \", df_income_personal_auto)\n",
    "print(f\"Corporate Auto avg income: \", df_income_corporate_auto)"
   ]
  },
  {
   "cell_type": "code",
   "execution_count": null,
   "id": "b0779f08",
   "metadata": {},
   "outputs": [],
   "source": [
    "df_claim = df_lab1[\"Total Claim Amount\"].describe()\n",
    "df_claim"
   ]
  },
  {
   "cell_type": "code",
   "execution_count": null,
   "id": "a051c87a",
   "metadata": {},
   "outputs": [],
   "source": [
    "\"\"\"\n",
    "The top 25% of the total claim amount is 532.8 so here is the information about those customers.\n",
    "\"\"\"\n",
    "top_claim_customers = df_lab1[df_lab1[\"Total Claim Amount\"] > 532.8].describe(include=\"object\")\n",
    "top_claim_customers"
   ]
  },
  {
   "cell_type": "code",
   "execution_count": null,
   "id": "7b870571",
   "metadata": {},
   "outputs": [],
   "source": []
  }
 ],
 "metadata": {
  "kernelspec": {
   "display_name": "Python 3 (ipykernel)",
   "language": "python",
   "name": "python3"
  },
  "language_info": {
   "codemirror_mode": {
    "name": "ipython",
    "version": 3
   },
   "file_extension": ".py",
   "mimetype": "text/x-python",
   "name": "python",
   "nbconvert_exporter": "python",
   "pygments_lexer": "ipython3",
   "version": "3.11.5"
  }
 },
 "nbformat": 4,
 "nbformat_minor": 5
}
