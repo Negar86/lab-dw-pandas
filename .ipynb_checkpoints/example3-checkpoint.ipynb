{
 "cells": [
  {
   "cell_type": "code",
   "execution_count": null,
   "id": "63df94c2",
   "metadata": {},
   "outputs": [],
   "source": [
    "import pandas as pd\n",
    "url = 'https://raw.githubusercontent.com/data-bootcamp-v4/data/main/file1.csv'\n",
    "my_data = pd.read_csv(url)\n",
    "my_data"
   ]
  },
  {
   "cell_type": "code",
   "execution_count": null,
   "id": "4827dd47",
   "metadata": {},
   "outputs": [],
   "source": [
    "my_data.shape\n",
    "print(f'The dataset has {my_data.shape[0]} rows and {my_data.shape[1]} columns' )\n",
    "\n",
    "my_data.dtypes"
   ]
  },
  {
   "cell_type": "code",
   "execution_count": null,
   "id": "155a40f9",
   "metadata": {},
   "outputs": [],
   "source": [
    "my_data.nunique()"
   ]
  },
  {
   "cell_type": "markdown",
   "id": "d997f001",
   "metadata": {},
   "source": [
    "Based on the information above the columns with limited number of unique elements:\n",
    "\n",
    "Cetegorial-Ordinal: Education, Vehicle Class Cetegorial-Nominal: ST, Gender,Policy Type, Customer\n",
    "\n",
    "Numerical-continues: Income , Customer Lifetime Value, Numerical-descrete: Number of Open Complaints, Monthly Premium Auto"
   ]
  },
  {
   "cell_type": "code",
   "execution_count": null,
   "id": "67ddcd80",
   "metadata": {},
   "outputs": [],
   "source": [
    "print('the uniqe values of Gender are:', my_data['GENDER'].unique())\n",
    "print('the uniqe values of Education are:', my_data['Education'].unique())\n",
    "print('the uniqe values of Vehicle Class are:', my_data['Vehicle Class'].unique())\n",
    "print('the uniqe values of ST are:', my_data['ST'].unique())\n",
    "print('the uniqe values of Policy Type are:',my_data['Policy Type'].unique())\n",
    "print(\" I have considered costumer as cetegorial but as each cell represents one ID and is unique it has 1071 different unique values that I did not print\")\n",
    "\n",
    "print(' range of Income is',my_data['Income'].max()-my_data['Income'].min())\n",
    "print(' range of Monthly Premium Auto is',my_data['Monthly Premium Auto'].max()-my_data['Monthly Premium Auto'].min())\n",
    "print(' ranage of Customer Lifetime Value and Open Complaints can not be achieved as the data has the wrong type')\n",
    "# this did not work print(' range of Customer Lifetime Value is',int(my_data['Customer Lifetime Value'].sort_values(ascending = True)[718])-int(my_data['Customer Lifetime Value'].sort_values(ascending = False)[196]))\n"
   ]
  },
  {
   "cell_type": "code",
   "execution_count": null,
   "id": "9f74f367",
   "metadata": {},
   "outputs": [],
   "source": [
    "#Compute summary statistics for categorical columns and providing your conclusions based on these statistics.\n",
    "my_data[['Income', 'Customer Lifetime Value','Number of Open Complaints', 'Monthly Premium Auto']].describe(include=\"all\")\n"
   ]
  },
  {
   "cell_type": "code",
   "execution_count": null,
   "id": "ccd33916",
   "metadata": {},
   "outputs": [],
   "source": [
    "#Compute summary statistics for categorical columns and providing your conclusions based on these statistics.\n",
    "my_data[['ST', 'GENDER','Policy Type', 'Customer', 'Education', 'Vehicle Class']].describe()\n"
   ]
  },
  {
   "cell_type": "code",
   "execution_count": null,
   "id": "313e30e9",
   "metadata": {},
   "outputs": [],
   "source": [
    "location=pd.Series(my_data['ST']).value_counts().sort_values()\n",
    "location[0:5]\n",
    "#my way was by using slices but there is another way that I searched and findout as I did not know it is:\n",
    "#using  : \" location.nsmallest(5)\" which will give the 5 less common customer locations\n"
   ]
  },
  {
   "cell_type": "code",
   "execution_count": null,
   "id": "940e2b73",
   "metadata": {},
   "outputs": [],
   "source": [
    "#  the index of the maximum value in a specific column or row is idxmax() applyed for both dataframe and series\n",
    "total_number_polic = pd.Series(my_data['Policy Type']).value_counts()\n",
    "total_number_polic"
   ]
  },
  {
   "cell_type": "code",
   "execution_count": null,
   "id": "7b97bd3c",
   "metadata": {},
   "outputs": [],
   "source": [
    "policy_highest_sales = total_number_polic.idxmax()\n",
    "print(\"Policy type with the highest number of policies sold:\", policy_highest_sales,\" and the highest number of policies sold is\",total_number_polic[0])\n"
   ]
  },
  {
   "cell_type": "code",
   "execution_count": null,
   "id": "0ae697f0",
   "metadata": {},
   "outputs": [],
   "source": [
    "df_personal_auto = my_data.loc[my_data['Policy Type'] == 'Personal Auto']\n",
    "df_corporate_auto = my_data.loc[my_data['Policy Type'] == 'Corporate Auto']\n",
    "df_personal_auto['Income'].describe()\n",
    "df_corporate_auto['Income'].describe()\n",
    "personal_corporate_compare=pd.concat([df_personal_auto['Income'].describe(),df_corporate_auto['Income'].describe()], axis =1) \n",
    "personal_corporate_compare"
   ]
  },
  {
   "cell_type": "code",
   "execution_count": null,
   "id": "214623c3",
   "metadata": {},
   "outputs": [],
   "source": [
    "print('The mean income for customers with Personal Auto 38,180.70 while for customers with Corporate Auto 41,390.31.')\n"
   ]
  },
  {
   "cell_type": "code",
   "execution_count": null,
   "id": "f69384eb",
   "metadata": {},
   "outputs": [],
   "source": []
  },
  {
   "cell_type": "code",
   "execution_count": null,
   "id": "53337318",
   "metadata": {},
   "outputs": [],
   "source": []
  },
  {
   "cell_type": "code",
   "execution_count": null,
   "id": "c119e8af",
   "metadata": {},
   "outputs": [],
   "source": []
  },
  {
   "cell_type": "code",
   "execution_count": null,
   "id": "eb2c96aa",
   "metadata": {},
   "outputs": [],
   "source": []
  }
 ],
 "metadata": {
  "kernelspec": {
   "display_name": "Python 3 (ipykernel)",
   "language": "python",
   "name": "python3"
  },
  "language_info": {
   "codemirror_mode": {
    "name": "ipython",
    "version": 3
   },
   "file_extension": ".py",
   "mimetype": "text/x-python",
   "name": "python",
   "nbconvert_exporter": "python",
   "pygments_lexer": "ipython3",
   "version": "3.11.5"
  }
 },
 "nbformat": 4,
 "nbformat_minor": 5
}
