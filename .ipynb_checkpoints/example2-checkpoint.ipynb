{
 "cells": [
  {
   "cell_type": "code",
   "execution_count": null,
   "id": "3da6d98d",
   "metadata": {},
   "outputs": [],
   "source": [
    "import pandas as pd\n",
    "url = 'https://raw.githubusercontent.com/data-bootcamp-v4/data/main/file1.csv'\n",
    "\n",
    "ins_df=pd.read_csv(url)"
   ]
  },
  {
   "cell_type": "code",
   "execution_count": null,
   "id": "e5f0b6eb",
   "metadata": {},
   "outputs": [],
   "source": [
    "ins_df.shape"
   ]
  },
  {
   "cell_type": "code",
   "execution_count": null,
   "id": "2d0ab89e",
   "metadata": {},
   "outputs": [],
   "source": [
    "ins_df.info()"
   ]
  },
  {
   "cell_type": "code",
   "execution_count": null,
   "id": "580a4d14",
   "metadata": {},
   "outputs": [],
   "source": [
    "ins_df.nunique()"
   ]
  },
  {
   "cell_type": "code",
   "execution_count": null,
   "id": "a9e00487",
   "metadata": {},
   "outputs": [],
   "source": [
    "ins_df[\"ST\"].value_counts()"
   ]
  },
  {
   "cell_type": "code",
   "execution_count": null,
   "id": "cd4f9945",
   "metadata": {},
   "outputs": [],
   "source": [
    "ins_df[\"GENDER\"].value_counts()"
   ]
  },
  {
   "cell_type": "code",
   "execution_count": null,
   "id": "dda29abc",
   "metadata": {},
   "outputs": [],
   "source": [
    "ins_df[\"Education\"].value_counts()"
   ]
  },
  {
   "cell_type": "code",
   "execution_count": null,
   "id": "a7fbdd90",
   "metadata": {},
   "outputs": [],
   "source": [
    "ins_df[\"Number of Open Complaints\"].value_counts()"
   ]
  },
  {
   "cell_type": "code",
   "execution_count": null,
   "id": "0d24a91a",
   "metadata": {},
   "outputs": [],
   "source": [
    "ins_df[\"Policy Type\"].value_counts()"
   ]
  },
  {
   "cell_type": "code",
   "execution_count": null,
   "id": "ae1df324",
   "metadata": {},
   "outputs": [],
   "source": [
    "ins_df[\"Vehicle Class\"].value_counts()"
   ]
  },
  {
   "cell_type": "code",
   "execution_count": null,
   "id": "f6077292",
   "metadata": {},
   "outputs": [],
   "source": [
    "ins_df.describe(include=\"number\")"
   ]
  },
  {
   "cell_type": "code",
   "execution_count": null,
   "id": "95b1bbf8",
   "metadata": {},
   "outputs": [],
   "source": [
    "ins_df.describe(include=\"object\")"
   ]
  },
  {
   "cell_type": "code",
   "execution_count": null,
   "id": "fff0dc8f",
   "metadata": {},
   "outputs": [],
   "source": [
    "location_series = ins_df[\"ST\"]\n",
    "location_series.value_counts()\n",
    "\n",
    "top_least_common_locations = location_series.value_counts().sort_values().head(5)\n",
    "print(\"Top 5 least common customer locations:\")\n",
    "print(top_least_common_locations)"
   ]
  },
  {
   "cell_type": "code",
   "execution_count": null,
   "id": "6f927735",
   "metadata": {},
   "outputs": [],
   "source": [
    "location_series = ins_df[\"Policy Type\"]\n",
    "location_series.value_counts()\n",
    "\n",
    "\n",
    "# Assuming loc_series is already defined\n",
    "top_selling_policy = location_series.value_counts().idxmax()\n",
    "top_selling_policy_no = location_series.value_counts().max()\n",
    "\n",
    "print(\"Policy type with the highest number of policies sold:\", top_selling_policy,\" - \",top_selling_policy_no)"
   ]
  },
  {
   "cell_type": "code",
   "execution_count": null,
   "id": "bad4ae1e",
   "metadata": {},
   "outputs": [],
   "source": [
    "personal_df=ins_df.loc[ins_df['Policy Type'] == 'Personal Auto']\n",
    "corporate_df = ins_df.loc[ins_df['Policy Type'] == 'Corporate Auto']\n",
    "\n",
    "print(\"The average income for cusomers with personal auto policies is: \",round(personal_df[\"Income\"].mean(),2))\n",
    "print(\"The average income for cusomers with corporate auto policies is: \",round(corporate_df[\"Income\"].mean(),2))"
   ]
  },
  {
   "cell_type": "code",
   "execution_count": null,
   "id": "14252a43",
   "metadata": {},
   "outputs": [],
   "source": []
  }
 ],
 "metadata": {
  "kernelspec": {
   "display_name": "Python 3 (ipykernel)",
   "language": "python",
   "name": "python3"
  },
  "language_info": {
   "codemirror_mode": {
    "name": "ipython",
    "version": 3
   },
   "file_extension": ".py",
   "mimetype": "text/x-python",
   "name": "python",
   "nbconvert_exporter": "python",
   "pygments_lexer": "ipython3",
   "version": "3.11.5"
  }
 },
 "nbformat": 4,
 "nbformat_minor": 5
}
